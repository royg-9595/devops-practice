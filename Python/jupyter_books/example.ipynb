{
 "cells": [
  {
   "cell_type": "code",
   "execution_count": 6,
   "metadata": {},
   "outputs": [
    {
     "data": {
      "text/plain": [
       "'Name:default_name,\\nage:20'"
      ]
     },
     "execution_count": 6,
     "metadata": {},
     "output_type": "execute_result"
    }
   ],
   "source": [
    "class Person:\n",
    "    def __init__(self, fname = 'default_name', age=20):\n",
    "        self.fname=fname\n",
    "        self.age=age\n",
    "\n",
    "    def printit(self):\n",
    "        return f\"Name:{self.fname},\\nage:{self.age}\"\n",
    "\n",
    "blank_person=Person()\n",
    "person1=Person(\"Jayanth\",21)\n",
    "blank_person.printit()\n",
    "\n"
   ]
  }
 ],
 "metadata": {
  "kernelspec": {
   "display_name": "Python 3",
   "language": "python",
   "name": "python3"
  },
  "language_info": {
   "codemirror_mode": {
    "name": "ipython",
    "version": 3
   },
   "file_extension": ".py",
   "mimetype": "text/x-python",
   "name": "python",
   "nbconvert_exporter": "python",
   "pygments_lexer": "ipython3",
   "version": "3.13.1"
  }
 },
 "nbformat": 4,
 "nbformat_minor": 2
}
